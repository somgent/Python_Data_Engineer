{
 "cells": [
  {
   "cell_type": "markdown",
   "metadata": {},
   "source": [
    "# Jupyter Notebook Markdown Rules\n",
    "+ https://github.com/adam-p/markdown-here/wiki/Markdown-Cheatsheet\n",
    "\n",
    "# Jupyter Notebook\n",
    "+ https://jupyter-notebook.readthedocs.io/en/stable/\n",
    "+ https://www.youtube.com/watch?v=HW29067qVWk&list=PL-osiE80TeTt2d9bfVyTiXJA-UTHn6WwU&index=17\n",
    "\n",
    "### Log in to github and check this link: Its IMPORTANT!!!\n",
    "+ https://github.com/ipython/ipython-in-depth\n",
    "\n",
    "## Bash Command\n",
    "+ **this command is same as command line command**\n",
    "\n",
    "## Python 3.7 Quick Reference\n",
    "+ https://www.cs.put.poznan.pl/csobaniec/software/python/py-qrc.html\n",
    "\n",
    "# Install only Jupyter Notebook from terminal\n",
    "+ ***https://pip.pypa.io/en/stable/installing/***\n",
    "+ ***pip install jupyterlab***\n",
    "+ https://www.youtube.com/watch?v=ZyhVh-qRZPA&list=RDCMUCCezIgC97PvUuR4_gbFUs5g&start_radio=1&t=24"
   ]
  },
  {
   "cell_type": "code",
   "execution_count": 1,
   "metadata": {},
   "outputs": [
    {
     "name": "stdout",
     "output_type": "stream",
     "text": [
      "Package             Version\r\n",
      "------------------- ---------\r\n",
      "anyio               3.1.0\r\n",
      "appnope             0.1.2\r\n",
      "argon2-cffi         20.1.0\r\n",
      "async-generator     1.10\r\n",
      "attrs               21.2.0\r\n",
      "Babel               2.9.1\r\n",
      "backcall            0.2.0\r\n",
      "bleach              3.3.0\r\n",
      "certifi             2020.12.5\r\n",
      "cffi                1.14.5\r\n",
      "chardet             4.0.0\r\n",
      "cycler              0.10.0\r\n",
      "decorator           5.0.9\r\n",
      "defusedxml          0.7.1\r\n",
      "entrypoints         0.3\r\n",
      "et-xmlfile          1.1.0\r\n",
      "idna                2.10\r\n",
      "ipykernel           5.5.5\r\n",
      "ipython             7.23.1\r\n",
      "ipython-genutils    0.2.0\r\n",
      "jedi                0.18.0\r\n",
      "Jinja2              3.0.1\r\n",
      "json5               0.9.5\r\n",
      "jsonschema          3.2.0\r\n",
      "jupyter-client      6.1.12\r\n",
      "jupyter-core        4.7.1\r\n",
      "jupyter-server      1.8.0\r\n",
      "jupyterlab          3.0.16\r\n",
      "jupyterlab-pygments 0.1.2\r\n",
      "jupyterlab-server   2.5.2\r\n",
      "kiwisolver          1.3.1\r\n",
      "MarkupSafe          2.0.1\r\n",
      "matplotlib          3.4.2\r\n",
      "matplotlib-inline   0.1.2\r\n",
      "mistune             0.8.4\r\n",
      "nbclassic           0.3.1\r\n",
      "nbclient            0.5.3\r\n",
      "nbconvert           6.0.7\r\n",
      "nbformat            5.1.3\r\n",
      "nest-asyncio        1.5.1\r\n",
      "notebook            6.4.0\r\n",
      "numpy               1.20.3\r\n",
      "openpyxl            3.0.7\r\n",
      "packaging           20.9\r\n",
      "pandas              1.2.4\r\n",
      "pandocfilters       1.4.3\r\n",
      "parso               0.8.2\r\n",
      "pexpect             4.8.0\r\n",
      "pickleshare         0.7.5\r\n",
      "Pillow              8.2.0\r\n",
      "pip                 21.1.2\r\n",
      "prometheus-client   0.10.1\r\n",
      "prompt-toolkit      3.0.18\r\n",
      "ptyprocess          0.7.0\r\n",
      "pycparser           2.20\r\n",
      "Pygments            2.9.0\r\n",
      "pyparsing           2.4.7\r\n",
      "PyQt5               5.15.4\r\n",
      "PyQt5-Qt5           5.15.2\r\n",
      "PyQt5-sip           12.9.0\r\n",
      "pyrsistent          0.17.3\r\n",
      "python-dateutil     2.8.1\r\n",
      "pytz                2021.1\r\n",
      "pyzmq               22.0.3\r\n",
      "qtconsole           5.1.0\r\n",
      "QtPy                1.9.0\r\n",
      "requests            2.25.1\r\n",
      "Send2Trash          1.5.0\r\n",
      "setuptools          47.1.0\r\n",
      "six                 1.16.0\r\n",
      "sniffio             1.2.0\r\n",
      "terminado           0.10.0\r\n",
      "testpath            0.5.0\r\n",
      "tornado             6.1\r\n",
      "traitlets           5.0.5\r\n",
      "urllib3             1.26.4\r\n",
      "wcwidth             0.2.5\r\n",
      "webencodings        0.5.1\r\n",
      "websocket-client    1.0.1\r\n",
      "wheel               0.36.2\r\n"
     ]
    }
   ],
   "source": [
    "!pip list"
   ]
  },
  {
   "cell_type": "markdown",
   "metadata": {},
   "source": [
    "## Magic Command\n",
    "+ https://www.tutorialspoint.com/jupyter/ipython_magic_commands.htm\n",
    "+ **Starts with *%*** : *line magics*\n",
    "+ **Starts with *%%***: *cell magic*"
   ]
  },
  {
   "cell_type": "code",
   "execution_count": 2,
   "metadata": {},
   "outputs": [
    {
     "name": "stdout",
     "output_type": "stream",
     "text": [
      "Package    Version Latest Type\n",
      "---------- ------- ------ -----\n",
      "idna       2.10    3.1    wheel\n",
      "setuptools 47.1.0  57.0.0 wheel\n",
      "Note: you may need to restart the kernel to use updated packages.\n"
     ]
    }
   ],
   "source": [
    "pip list --outdated"
   ]
  },
  {
   "cell_type": "code",
   "execution_count": 4,
   "metadata": {},
   "outputs": [
    {
     "name": "stdout",
     "output_type": "stream",
     "text": [
      "Package    Version Latest Type\n",
      "---------- ------- ------ -----\n",
      "matplotlib 3.2.2   3.3.0  wheel\n",
      "Note: you may need to restart the kernel to use updated packages.\n"
     ]
    }
   ],
   "source": [
    "pip list --outdated --not-required"
   ]
  },
  {
   "cell_type": "code",
   "execution_count": 4,
   "metadata": {},
   "outputs": [
    {
     "name": "stdout",
     "output_type": "stream",
     "text": [
      "Name: qtconsole\n",
      "Version: 5.1.0\n",
      "Summary: Jupyter Qt console\n",
      "Home-page: http://jupyter.org\n",
      "Author: Jupyter Development Team\n",
      "Author-email: jupyter@googlegroups.com\n",
      "License: BSD\n",
      "Location: /Library/Frameworks/Python.framework/Versions/3.8/lib/python3.8/site-packages\n",
      "Requires: ipython-genutils, ipykernel, jupyter-client, qtpy, pyzmq, jupyter-core, traitlets, pygments\n",
      "Required-by: \n",
      "Note: you may need to restart the kernel to use updated packages.\n"
     ]
    }
   ],
   "source": [
    "pip show qtconsole"
   ]
  },
  {
   "cell_type": "code",
   "execution_count": 8,
   "metadata": {},
   "outputs": [
    {
     "name": "stdout",
     "output_type": "stream",
     "text": [
      "Collecting pyqt5\n",
      "  Downloading PyQt5-5.15.0-5.15.0-cp35.cp36.cp37.cp38-abi3-macosx_10_6_intel.whl (55.3 MB)\n",
      "\u001b[K     |████████████████████████████████| 55.3 MB 2.4 MB/s eta 0:00:01\n",
      "\u001b[?25hCollecting PyQt5-sip<13,>=12.8\n",
      "  Downloading PyQt5_sip-12.8.0-cp38-cp38-macosx_10_9_x86_64.whl (63 kB)\n",
      "\u001b[K     |████████████████████████████████| 63 kB 1.8 MB/s eta 0:00:01\n",
      "\u001b[?25hInstalling collected packages: PyQt5-sip, pyqt5\n",
      "Successfully installed PyQt5-sip-12.8.0 pyqt5-5.15.0\n",
      "Note: you may need to restart the kernel to use updated packages.\n"
     ]
    }
   ],
   "source": [
    "pip install pyqt5"
   ]
  },
  {
   "cell_type": "code",
   "execution_count": null,
   "metadata": {},
   "outputs": [],
   "source": [
    "pip install qtconsole"
   ]
  },
  {
   "cell_type": "code",
   "execution_count": 5,
   "metadata": {
    "scrolled": true
   },
   "outputs": [
    {
     "data": {
      "application/json": {
       "cell": {
        "!": "OSMagics",
        "HTML": "Other",
        "SVG": "Other",
        "bash": "Other",
        "capture": "ExecutionMagics",
        "debug": "ExecutionMagics",
        "file": "Other",
        "html": "DisplayMagics",
        "javascript": "DisplayMagics",
        "js": "DisplayMagics",
        "latex": "DisplayMagics",
        "markdown": "DisplayMagics",
        "perl": "Other",
        "prun": "ExecutionMagics",
        "pypy": "Other",
        "python": "Other",
        "python2": "Other",
        "python3": "Other",
        "ruby": "Other",
        "script": "ScriptMagics",
        "sh": "Other",
        "svg": "DisplayMagics",
        "sx": "OSMagics",
        "system": "OSMagics",
        "time": "ExecutionMagics",
        "timeit": "ExecutionMagics",
        "writefile": "OSMagics"
       },
       "line": {
        "alias": "OSMagics",
        "alias_magic": "BasicMagics",
        "autoawait": "AsyncMagics",
        "autocall": "AutoMagics",
        "automagic": "AutoMagics",
        "autosave": "KernelMagics",
        "bookmark": "OSMagics",
        "cat": "Other",
        "cd": "OSMagics",
        "clear": "KernelMagics",
        "colors": "BasicMagics",
        "conda": "PackagingMagics",
        "config": "ConfigMagics",
        "connect_info": "KernelMagics",
        "cp": "Other",
        "debug": "ExecutionMagics",
        "dhist": "OSMagics",
        "dirs": "OSMagics",
        "doctest_mode": "BasicMagics",
        "ed": "Other",
        "edit": "KernelMagics",
        "env": "OSMagics",
        "gui": "BasicMagics",
        "hist": "Other",
        "history": "HistoryMagics",
        "killbgscripts": "ScriptMagics",
        "ldir": "Other",
        "less": "KernelMagics",
        "lf": "Other",
        "lk": "Other",
        "ll": "Other",
        "load": "CodeMagics",
        "load_ext": "ExtensionMagics",
        "loadpy": "CodeMagics",
        "logoff": "LoggingMagics",
        "logon": "LoggingMagics",
        "logstart": "LoggingMagics",
        "logstate": "LoggingMagics",
        "logstop": "LoggingMagics",
        "ls": "Other",
        "lsmagic": "BasicMagics",
        "lx": "Other",
        "macro": "ExecutionMagics",
        "magic": "BasicMagics",
        "man": "KernelMagics",
        "matplotlib": "PylabMagics",
        "mkdir": "Other",
        "more": "KernelMagics",
        "mv": "Other",
        "notebook": "BasicMagics",
        "page": "BasicMagics",
        "pastebin": "CodeMagics",
        "pdb": "ExecutionMagics",
        "pdef": "NamespaceMagics",
        "pdoc": "NamespaceMagics",
        "pfile": "NamespaceMagics",
        "pinfo": "NamespaceMagics",
        "pinfo2": "NamespaceMagics",
        "pip": "PackagingMagics",
        "popd": "OSMagics",
        "pprint": "BasicMagics",
        "precision": "BasicMagics",
        "prun": "ExecutionMagics",
        "psearch": "NamespaceMagics",
        "psource": "NamespaceMagics",
        "pushd": "OSMagics",
        "pwd": "OSMagics",
        "pycat": "OSMagics",
        "pylab": "PylabMagics",
        "qtconsole": "KernelMagics",
        "quickref": "BasicMagics",
        "recall": "HistoryMagics",
        "rehashx": "OSMagics",
        "reload_ext": "ExtensionMagics",
        "rep": "Other",
        "rerun": "HistoryMagics",
        "reset": "NamespaceMagics",
        "reset_selective": "NamespaceMagics",
        "rm": "Other",
        "rmdir": "Other",
        "run": "ExecutionMagics",
        "save": "CodeMagics",
        "sc": "OSMagics",
        "set_env": "OSMagics",
        "store": "StoreMagics",
        "sx": "OSMagics",
        "system": "OSMagics",
        "tb": "ExecutionMagics",
        "time": "ExecutionMagics",
        "timeit": "ExecutionMagics",
        "unalias": "OSMagics",
        "unload_ext": "ExtensionMagics",
        "who": "NamespaceMagics",
        "who_ls": "NamespaceMagics",
        "whos": "NamespaceMagics",
        "xdel": "NamespaceMagics",
        "xmode": "BasicMagics"
       }
      },
      "text/plain": [
       "Available line magics:\n",
       "%alias  %alias_magic  %autoawait  %autocall  %automagic  %autosave  %bookmark  %cat  %cd  %clear  %colors  %conda  %config  %connect_info  %cp  %debug  %dhist  %dirs  %doctest_mode  %ed  %edit  %env  %gui  %hist  %history  %killbgscripts  %ldir  %less  %lf  %lk  %ll  %load  %load_ext  %loadpy  %logoff  %logon  %logstart  %logstate  %logstop  %ls  %lsmagic  %lx  %macro  %magic  %man  %matplotlib  %mkdir  %more  %mv  %notebook  %page  %pastebin  %pdb  %pdef  %pdoc  %pfile  %pinfo  %pinfo2  %pip  %popd  %pprint  %precision  %prun  %psearch  %psource  %pushd  %pwd  %pycat  %pylab  %qtconsole  %quickref  %recall  %rehashx  %reload_ext  %rep  %rerun  %reset  %reset_selective  %rm  %rmdir  %run  %save  %sc  %set_env  %store  %sx  %system  %tb  %time  %timeit  %unalias  %unload_ext  %who  %who_ls  %whos  %xdel  %xmode\n",
       "\n",
       "Available cell magics:\n",
       "%%!  %%HTML  %%SVG  %%bash  %%capture  %%debug  %%file  %%html  %%javascript  %%js  %%latex  %%markdown  %%perl  %%prun  %%pypy  %%python  %%python2  %%python3  %%ruby  %%script  %%sh  %%svg  %%sx  %%system  %%time  %%timeit  %%writefile\n",
       "\n",
       "Automagic is ON, % prefix IS NOT needed for line magics."
      ]
     },
     "execution_count": 5,
     "metadata": {},
     "output_type": "execute_result"
    }
   ],
   "source": [
    "%lsmagic"
   ]
  },
  {
   "cell_type": "code",
   "execution_count": 6,
   "metadata": {},
   "outputs": [
    {
     "data": {
      "text/plain": [
       "'/Users/soumenmondal/Documents/Study Materials/Python/MyPython_Practice'"
      ]
     },
     "execution_count": 6,
     "metadata": {},
     "output_type": "execute_result"
    }
   ],
   "source": [
    "%pwd"
   ]
  },
  {
   "cell_type": "code",
   "execution_count": 7,
   "metadata": {},
   "outputs": [
    {
     "name": "stdout",
     "output_type": "stream",
     "text": [
      "01. Jupyter Notebook.ipynb\r\n",
      "01.00 PY0101EN-1-1-Types_Lab.ipynb\r\n",
      "01.00 PY0101EN-1-2-Strings.ipynb\r\n",
      "01.00 PY0101EN-2-1-Tuples.ipynb\r\n",
      "01.00 PY0101EN-2-2-Lists.ipynb\r\n",
      "01.00 PY0101EN-2-3-Dictionaries.ipynb\r\n",
      "01.00 PY0101EN-2-4-Sets.ipynb\r\n",
      "01.00 PY0101EN-3-1-Conditions.ipynb\r\n",
      "01.00 PY0101EN-3-2-Loops.ipynb\r\n",
      "01.00 PY0101EN-3-3-Functions.ipynb\r\n",
      "01.00 PY0101EN-3-4-Classes.ipynb\r\n",
      "01.00 PY0101EN-4-1-ReadFile.ipynb\r\n",
      "01.00 PY0101EN-4-2-WriteFile.ipynb\r\n",
      "01.00 PY0101EN-5-1-Numpy1D.ipynb\r\n",
      "01.00 PY0101EN-5-2-Numpy2D.ipynb\r\n",
      "01.00 PY0101EN-5.1_Intro_API.ipynb\r\n",
      "01.00 PY0101EN-5.2_API_2.ipynb\r\n",
      "1. String.ipynb\r\n",
      "1a. Numbers (Integers and floats).ipynb\r\n",
      "\u001b[31m1c. Datetime_Module.ipynb\u001b[m\u001b[m*\r\n",
      "2. List, Tuple and Set.ipynb\r\n",
      "2a. Comprehensions.ipynb\r\n",
      "2b. Generators.ipynb\r\n",
      "3. Dictionaries.ipynb\r\n",
      "4. If Statement.ipynb\r\n",
      "5. Loop.ipynb\r\n",
      "6. Functions.ipynb\r\n",
      "6a. Variable Scope.ipynb\r\n",
      "\u001b[31m7. Import Modules .ipynb\u001b[m\u001b[m*\r\n",
      "Coursera 8F2PXCGVEED9.pdf\r\n",
      "EdX Tutorial Online.ipynb\r\n",
      "Example1.txt\r\n",
      "Example2.txt\r\n",
      "Example3.txt\r\n",
      "Installing and running Python 2 .mp4\r\n",
      "Lab - Loading Data and Viewing Data.ipynb\r\n",
      "Pandas-Updating DataFrame.ipynb\r\n",
      "Pandas.ipynb\r\n",
      "Python_Quick Reference.pdf\r\n",
      "\u001b[31mPython_sample_coading.ipynb\u001b[m\u001b[m*\r\n",
      "Session 1.ipynb\r\n",
      "Sets and Dictionaries.ipynb\r\n",
      "Test.py\r\n",
      "Tuples.ipynb\r\n",
      "Untitled.ipynb\r\n",
      "Variable Scope.ipynb\r\n",
      "\u001b[34m__pycache__\u001b[m\u001b[m/\r\n",
      "clean_gdp.csv\r\n",
      "index.html\r\n",
      "my_module.py\r\n",
      "package_list.txt\r\n",
      "pip-Package Management.ipynb\r\n",
      "requirements.txt\r\n",
      "test_notebook_final.ipynb\r\n"
     ]
    }
   ],
   "source": [
    "%ls"
   ]
  },
  {
   "cell_type": "code",
   "execution_count": 8,
   "metadata": {},
   "outputs": [
    {
     "name": "stdout",
     "output_type": "stream",
     "text": [
      "total 84048\r\n",
      "drwxr-xr-x@ 58 soumenmondal  staff      1856 May 24 22:26 \u001b[34m.\u001b[m\u001b[m/\r\n",
      "drwxr-xr-x@ 18 soumenmondal  staff       576 May 24 19:00 \u001b[34m..\u001b[m\u001b[m/\r\n",
      "-rw-r--r--@  1 soumenmondal  staff     14340 Jun 11  2020 .DS_Store\r\n",
      "drwxr-xr-x  34 soumenmondal  staff      1088 Jul 16  2020 \u001b[34m.ipynb_checkpoints\u001b[m\u001b[m/\r\n",
      "-rw-r--r--   1 soumenmondal  staff     54089 May 24 22:26 01. Jupyter Notebook.ipynb\r\n",
      "-rw-r--r--@  1 soumenmondal  staff     50193 Jun  8  2020 01.00 PY0101EN-1-1-Types_Lab.ipynb\r\n",
      "-rw-r--r--@  1 soumenmondal  staff     30816 Jun  8  2020 01.00 PY0101EN-1-2-Strings.ipynb\r\n",
      "-rw-r--r--@  1 soumenmondal  staff     29452 Jun  8  2020 01.00 PY0101EN-2-1-Tuples.ipynb\r\n",
      "-rw-r--r--@  1 soumenmondal  staff     23672 Jun  8  2020 01.00 PY0101EN-2-2-Lists.ipynb\r\n",
      "-rw-r--r--@  1 soumenmondal  staff     18105 Jun  8  2020 01.00 PY0101EN-2-3-Dictionaries.ipynb\r\n",
      "-rw-r--r--@  1 soumenmondal  staff     18836 Jun  8  2020 01.00 PY0101EN-2-4-Sets.ipynb\r\n",
      "-rw-r--r--@  1 soumenmondal  staff     32475 Jun  8  2020 01.00 PY0101EN-3-1-Conditions.ipynb\r\n",
      "-rw-r--r--@  1 soumenmondal  staff     19594 Jun  8  2020 01.00 PY0101EN-3-2-Loops.ipynb\r\n",
      "-rw-r--r--@  1 soumenmondal  staff     38509 Jun  8  2020 01.00 PY0101EN-3-3-Functions.ipynb\r\n",
      "-rw-r--r--@  1 soumenmondal  staff     21977 Jun  8  2020 01.00 PY0101EN-3-4-Classes.ipynb\r\n",
      "-rw-r--r--@  1 soumenmondal  staff     20333 Jun  9  2020 01.00 PY0101EN-4-1-ReadFile.ipynb\r\n",
      "-rw-r--r--@  1 soumenmondal  staff     14176 Jun  9  2020 01.00 PY0101EN-4-2-WriteFile.ipynb\r\n",
      "-rw-r--r--@  1 soumenmondal  staff     94492 Jun 10  2020 01.00 PY0101EN-5-1-Numpy1D.ipynb\r\n",
      "-rw-r--r--@  1 soumenmondal  staff     23608 Jun 10  2020 01.00 PY0101EN-5-2-Numpy2D.ipynb\r\n",
      "-rw-r--r--@  1 soumenmondal  staff     16362 Jun 10  2020 01.00 PY0101EN-5.1_Intro_API.ipynb\r\n",
      "-rw-r--r--@  1 soumenmondal  staff     15220 Jun 10  2020 01.00 PY0101EN-5.2_API_2.ipynb\r\n",
      "-rw-r--r--   1 soumenmondal  staff     34259 Jun  9  2020 1. String.ipynb\r\n",
      "-rw-r--r--   1 soumenmondal  staff      7560 May 14  2020 1a. Numbers (Integers and floats).ipynb\r\n",
      "-rwxrwxrwx   1 soumenmondal  staff     47483 Jun  8  2020 \u001b[31m1c. Datetime_Module.ipynb\u001b[m\u001b[m*\r\n",
      "-rw-r--r--   1 soumenmondal  staff     54996 May 29  2020 2. List, Tuple and Set.ipynb\r\n",
      "-rw-r--r--   1 soumenmondal  staff     27715 May 26  2020 2a. Comprehensions.ipynb\r\n",
      "-rw-r--r--   1 soumenmondal  staff       759 May 26  2020 2b. Generators.ipynb\r\n",
      "-rw-r--r--   1 soumenmondal  staff     16473 May 29  2020 3. Dictionaries.ipynb\r\n",
      "-rw-r--r--   1 soumenmondal  staff      8634 May 22  2020 4. If Statement.ipynb\r\n",
      "-rw-r--r--   1 soumenmondal  staff     16080 May 22  2020 5. Loop.ipynb\r\n",
      "-rw-r--r--   1 soumenmondal  staff     19883 May 23  2020 6. Functions.ipynb\r\n",
      "-rw-r--r--   1 soumenmondal  staff     14222 May 26  2020 6a. Variable Scope.ipynb\r\n",
      "-rwxrwxrwx   1 soumenmondal  staff     12702 May 24  2020 \u001b[31m7. Import Modules .ipynb\u001b[m\u001b[m*\r\n",
      "-rw-r--r--@  1 soumenmondal  staff    165568 Jun 10  2020 Coursera 8F2PXCGVEED9.pdf\r\n",
      "-rw-r--r--   1 soumenmondal  staff      2596 Jun  5  2020 EdX Tutorial Online.ipynb\r\n",
      "-rw-r--r--@  1 soumenmondal  staff       283 Jun  9  2020 Example1.txt\r\n",
      "-rw-r--r--   1 soumenmondal  staff        60 Jun  9  2020 Example2.txt\r\n",
      "-rw-r--r--   1 soumenmondal  staff        60 Jun  9  2020 Example3.txt\r\n",
      "-rw-r--r--@  1 soumenmondal  staff  41413739 Dec 18  2017 Installing and running Python 2 .mp4\r\n",
      "-rw-r--r--@  1 soumenmondal  staff     83734 Jun 10  2020 Lab - Loading Data and Viewing Data.ipynb\r\n",
      "-rw-r--r--   1 soumenmondal  staff     39302 Jun 13  2020 Pandas-Updating DataFrame.ipynb\r\n",
      "-rw-r--r--   1 soumenmondal  staff     67229 Jul 15  2020 Pandas.ipynb\r\n",
      "-rw-r--r--@  1 soumenmondal  staff    147479 Jun  8  2020 Python_Quick Reference.pdf\r\n",
      "-rwxrwxrwx   1 soumenmondal  staff      1707 May  6  2020 \u001b[31mPython_sample_coading.ipynb\u001b[m\u001b[m*\r\n",
      "-rw-r--r--   1 soumenmondal  staff      9825 May 18  2020 Session 1.ipynb\r\n",
      "-rw-r--r--   1 soumenmondal  staff      8271 May 13  2020 Sets and Dictionaries.ipynb\r\n",
      "-rw-r--r--@  1 soumenmondal  staff       862 May  3  2020 Test.py\r\n",
      "-rw-r--r--   1 soumenmondal  staff      2567 May 13  2020 Tuples.ipynb\r\n",
      "-rw-r--r--   1 soumenmondal  staff      1407 Jun  8  2020 Untitled.ipynb\r\n",
      "-rw-r--r--   1 soumenmondal  staff       724 May 23  2020 Variable Scope.ipynb\r\n",
      "drwxr-xr-x   3 soumenmondal  staff        96 May 24  2020 \u001b[34m__pycache__\u001b[m\u001b[m/\r\n",
      "-rw-r--r--@  1 soumenmondal  staff      1965 Jun 10  2020 clean_gdp.csv\r\n",
      "-rw-r--r--@  1 soumenmondal  staff      9627 Jun 10  2020 index.html\r\n",
      "-rw-r--r--@  1 soumenmondal  staff       263 May 24  2020 my_module.py\r\n",
      "-rw-r--r--   1 soumenmondal  staff      4076 May 25  2020 package_list.txt\r\n",
      "-rw-r--r--   1 soumenmondal  staff     87526 May 27  2020 pip-Package Management.ipynb\r\n",
      "-rw-r--r--   1 soumenmondal  staff      4063 May 26  2020 requirements.txt\r\n",
      "-rw-r--r--@  1 soumenmondal  staff     65059 Jun 10  2020 test_notebook_final.ipynb\r\n"
     ]
    }
   ],
   "source": [
    "%ls -la"
   ]
  },
  {
   "cell_type": "code",
   "execution_count": 9,
   "metadata": {},
   "outputs": [
    {
     "name": "stdout",
     "output_type": "stream",
     "text": [
      "total 84048\r\n",
      "drwxr-xr-x@ 58 soumenmondal  staff      1856 May 24 22:26 \u001b[34m.\u001b[m\u001b[m/\r\n",
      "drwxr-xr-x@ 18 soumenmondal  staff       576 May 24 19:00 \u001b[34m..\u001b[m\u001b[m/\r\n",
      "-rw-r--r--@  1 soumenmondal  staff     14340 Jun 11  2020 .DS_Store\r\n",
      "drwxr-xr-x  34 soumenmondal  staff      1088 Jul 16  2020 \u001b[34m.ipynb_checkpoints\u001b[m\u001b[m/\r\n",
      "-rw-r--r--   1 soumenmondal  staff     54089 May 24 22:26 01. Jupyter Notebook.ipynb\r\n",
      "-rw-r--r--@  1 soumenmondal  staff     50193 Jun  8  2020 01.00 PY0101EN-1-1-Types_Lab.ipynb\r\n",
      "-rw-r--r--@  1 soumenmondal  staff     30816 Jun  8  2020 01.00 PY0101EN-1-2-Strings.ipynb\r\n",
      "-rw-r--r--@  1 soumenmondal  staff     29452 Jun  8  2020 01.00 PY0101EN-2-1-Tuples.ipynb\r\n",
      "-rw-r--r--@  1 soumenmondal  staff     23672 Jun  8  2020 01.00 PY0101EN-2-2-Lists.ipynb\r\n",
      "-rw-r--r--@  1 soumenmondal  staff     18105 Jun  8  2020 01.00 PY0101EN-2-3-Dictionaries.ipynb\r\n",
      "-rw-r--r--@  1 soumenmondal  staff     18836 Jun  8  2020 01.00 PY0101EN-2-4-Sets.ipynb\r\n",
      "-rw-r--r--@  1 soumenmondal  staff     32475 Jun  8  2020 01.00 PY0101EN-3-1-Conditions.ipynb\r\n",
      "-rw-r--r--@  1 soumenmondal  staff     19594 Jun  8  2020 01.00 PY0101EN-3-2-Loops.ipynb\r\n",
      "-rw-r--r--@  1 soumenmondal  staff     38509 Jun  8  2020 01.00 PY0101EN-3-3-Functions.ipynb\r\n",
      "-rw-r--r--@  1 soumenmondal  staff     21977 Jun  8  2020 01.00 PY0101EN-3-4-Classes.ipynb\r\n",
      "-rw-r--r--@  1 soumenmondal  staff     20333 Jun  9  2020 01.00 PY0101EN-4-1-ReadFile.ipynb\r\n",
      "-rw-r--r--@  1 soumenmondal  staff     14176 Jun  9  2020 01.00 PY0101EN-4-2-WriteFile.ipynb\r\n",
      "-rw-r--r--@  1 soumenmondal  staff     94492 Jun 10  2020 01.00 PY0101EN-5-1-Numpy1D.ipynb\r\n",
      "-rw-r--r--@  1 soumenmondal  staff     23608 Jun 10  2020 01.00 PY0101EN-5-2-Numpy2D.ipynb\r\n",
      "-rw-r--r--@  1 soumenmondal  staff     16362 Jun 10  2020 01.00 PY0101EN-5.1_Intro_API.ipynb\r\n",
      "-rw-r--r--@  1 soumenmondal  staff     15220 Jun 10  2020 01.00 PY0101EN-5.2_API_2.ipynb\r\n",
      "-rw-r--r--   1 soumenmondal  staff     34259 Jun  9  2020 1. String.ipynb\r\n",
      "-rw-r--r--   1 soumenmondal  staff      7560 May 14  2020 1a. Numbers (Integers and floats).ipynb\r\n",
      "-rwxrwxrwx   1 soumenmondal  staff     47483 Jun  8  2020 \u001b[31m1c. Datetime_Module.ipynb\u001b[m\u001b[m*\r\n",
      "-rw-r--r--   1 soumenmondal  staff     54996 May 29  2020 2. List, Tuple and Set.ipynb\r\n",
      "-rw-r--r--   1 soumenmondal  staff     27715 May 26  2020 2a. Comprehensions.ipynb\r\n",
      "-rw-r--r--   1 soumenmondal  staff       759 May 26  2020 2b. Generators.ipynb\r\n",
      "-rw-r--r--   1 soumenmondal  staff     16473 May 29  2020 3. Dictionaries.ipynb\r\n",
      "-rw-r--r--   1 soumenmondal  staff      8634 May 22  2020 4. If Statement.ipynb\r\n",
      "-rw-r--r--   1 soumenmondal  staff     16080 May 22  2020 5. Loop.ipynb\r\n",
      "-rw-r--r--   1 soumenmondal  staff     19883 May 23  2020 6. Functions.ipynb\r\n",
      "-rw-r--r--   1 soumenmondal  staff     14222 May 26  2020 6a. Variable Scope.ipynb\r\n",
      "-rwxrwxrwx   1 soumenmondal  staff     12702 May 24  2020 \u001b[31m7. Import Modules .ipynb\u001b[m\u001b[m*\r\n",
      "-rw-r--r--@  1 soumenmondal  staff    165568 Jun 10  2020 Coursera 8F2PXCGVEED9.pdf\r\n",
      "-rw-r--r--   1 soumenmondal  staff      2596 Jun  5  2020 EdX Tutorial Online.ipynb\r\n",
      "-rw-r--r--@  1 soumenmondal  staff       283 Jun  9  2020 Example1.txt\r\n",
      "-rw-r--r--   1 soumenmondal  staff        60 Jun  9  2020 Example2.txt\r\n",
      "-rw-r--r--   1 soumenmondal  staff        60 Jun  9  2020 Example3.txt\r\n",
      "-rw-r--r--@  1 soumenmondal  staff  41413739 Dec 18  2017 Installing and running Python 2 .mp4\r\n",
      "-rw-r--r--@  1 soumenmondal  staff     83734 Jun 10  2020 Lab - Loading Data and Viewing Data.ipynb\r\n",
      "-rw-r--r--   1 soumenmondal  staff     39302 Jun 13  2020 Pandas-Updating DataFrame.ipynb\r\n",
      "-rw-r--r--   1 soumenmondal  staff     67229 Jul 15  2020 Pandas.ipynb\r\n",
      "-rw-r--r--@  1 soumenmondal  staff    147479 Jun  8  2020 Python_Quick Reference.pdf\r\n",
      "-rwxrwxrwx   1 soumenmondal  staff      1707 May  6  2020 \u001b[31mPython_sample_coading.ipynb\u001b[m\u001b[m*\r\n",
      "-rw-r--r--   1 soumenmondal  staff      9825 May 18  2020 Session 1.ipynb\r\n",
      "-rw-r--r--   1 soumenmondal  staff      8271 May 13  2020 Sets and Dictionaries.ipynb\r\n",
      "-rw-r--r--@  1 soumenmondal  staff       862 May  3  2020 Test.py\r\n",
      "-rw-r--r--   1 soumenmondal  staff      2567 May 13  2020 Tuples.ipynb\r\n",
      "-rw-r--r--   1 soumenmondal  staff      1407 Jun  8  2020 Untitled.ipynb\r\n",
      "-rw-r--r--   1 soumenmondal  staff       724 May 23  2020 Variable Scope.ipynb\r\n",
      "drwxr-xr-x   3 soumenmondal  staff        96 May 24  2020 \u001b[34m__pycache__\u001b[m\u001b[m/\r\n",
      "-rw-r--r--@  1 soumenmondal  staff      1965 Jun 10  2020 clean_gdp.csv\r\n",
      "-rw-r--r--@  1 soumenmondal  staff      9627 Jun 10  2020 index.html\r\n",
      "-rw-r--r--@  1 soumenmondal  staff       263 May 24  2020 my_module.py\r\n",
      "-rw-r--r--   1 soumenmondal  staff      4076 May 25  2020 package_list.txt\r\n",
      "-rw-r--r--   1 soumenmondal  staff     87526 May 27  2020 pip-Package Management.ipynb\r\n",
      "-rw-r--r--   1 soumenmondal  staff      4063 May 26  2020 requirements.txt\r\n",
      "-rw-r--r--@  1 soumenmondal  staff     65059 Jun 10  2020 test_notebook_final.ipynb\r\n"
     ]
    }
   ],
   "source": [
    "%ls -la"
   ]
  },
  {
   "cell_type": "markdown",
   "metadata": {},
   "source": [
    "### Simple demo of scattered plot"
   ]
  },
  {
   "cell_type": "code",
   "execution_count": 12,
   "metadata": {},
   "outputs": [
    {
     "data": {
      "image/png": "[encoded data removed]",
      "text/plain": [
       "<Figure size 432x288 with 1 Axes>"
      ]
     },
     "metadata": {
      "needs_background": "light"
     },
     "output_type": "display_data"
    }
   ],
   "source": [
    "%matplotlib inline\n",
    "import numpy as np\n",
    "import matplotlib.pyplot as plt\n",
    "N = 20\n",
    "x = np.random.rand(N)\n",
    "y = np.random.rand(N)\n",
    "colors = np.random.rand(N)\n",
    "area = np.pi * (15 * np.random.rand(N))**2 # 0 to 15 point radiuos\n",
    "plt.scatter(x, y, s=area, c=colors, alpha=0.5)\n",
    "plt.show()"
   ]
  },
  {
   "cell_type": "code",
   "execution_count": 13,
   "metadata": {},
   "outputs": [
    {
     "data": {
      "text/html": [
       "<iframe width=\"560\" height=\"315\" src=\"https://www.youtube.com/embed/S_f2qV2_U00?rel=0&amp;controls=0&amp;showinfo=0\" frameborder=\"0\" allowfullscreen></iframe>\n"
      ],
      "text/plain": [
       "<IPython.core.display.HTML object>"
      ]
     },
     "metadata": {},
     "output_type": "display_data"
    }
   ],
   "source": [
    "%%HTML\n",
    "<iframe width=\"560\" height=\"315\" src=\"https://www.youtube.com/embed/S_f2qV2_U00?rel=0&amp;controls=0&amp;showinfo=0\" frameborder=\"0\" allowfullscreen></iframe>"
   ]
  },
  {
   "cell_type": "code",
   "execution_count": 14,
   "metadata": {},
   "outputs": [
    {
     "name": "stdout",
     "output_type": "stream",
     "text": [
      "83.6 µs ± 2.09 µs per loop (mean ± std. dev. of 7 runs, 10000 loops each)\n"
     ]
    }
   ],
   "source": [
    "%%timeit\n",
    "squere_even = [n*n for n in range(1000)]"
   ]
  },
  {
   "cell_type": "code",
   "execution_count": 13,
   "metadata": {},
   "outputs": [
    {
     "data": {
      "text/html": [
       "<div>\n",
       "<style scoped>\n",
       "    .dataframe tbody tr th:only-of-type {\n",
       "        vertical-align: middle;\n",
       "    }\n",
       "\n",
       "    .dataframe tbody tr th {\n",
       "        vertical-align: top;\n",
       "    }\n",
       "\n",
       "    .dataframe thead th {\n",
       "        text-align: right;\n",
       "    }\n",
       "</style>\n",
       "<table border=\"1\" class=\"dataframe\">\n",
       "  <thead>\n",
       "    <tr style=\"text-align: right;\">\n",
       "      <th></th>\n",
       "      <th>0</th>\n",
       "      <th>1</th>\n",
       "      <th>2</th>\n",
       "      <th>3</th>\n",
       "      <th>4</th>\n",
       "    </tr>\n",
       "  </thead>\n",
       "  <tbody>\n",
       "    <tr>\n",
       "      <th>0</th>\n",
       "      <td>0.322406</td>\n",
       "      <td>0.646992</td>\n",
       "      <td>0.089726</td>\n",
       "      <td>0.336001</td>\n",
       "      <td>0.027017</td>\n",
       "    </tr>\n",
       "    <tr>\n",
       "      <th>1</th>\n",
       "      <td>0.079582</td>\n",
       "      <td>0.911784</td>\n",
       "      <td>0.882978</td>\n",
       "      <td>0.663402</td>\n",
       "      <td>0.884389</td>\n",
       "    </tr>\n",
       "    <tr>\n",
       "      <th>2</th>\n",
       "      <td>0.822083</td>\n",
       "      <td>0.129468</td>\n",
       "      <td>0.738462</td>\n",
       "      <td>0.255872</td>\n",
       "      <td>0.173141</td>\n",
       "    </tr>\n",
       "    <tr>\n",
       "      <th>3</th>\n",
       "      <td>0.822076</td>\n",
       "      <td>0.515314</td>\n",
       "      <td>0.090162</td>\n",
       "      <td>0.329381</td>\n",
       "      <td>0.952153</td>\n",
       "    </tr>\n",
       "    <tr>\n",
       "      <th>4</th>\n",
       "      <td>0.994205</td>\n",
       "      <td>0.867608</td>\n",
       "      <td>0.173345</td>\n",
       "      <td>0.416000</td>\n",
       "      <td>0.632748</td>\n",
       "    </tr>\n",
       "    <tr>\n",
       "      <th>5</th>\n",
       "      <td>0.734949</td>\n",
       "      <td>0.253336</td>\n",
       "      <td>0.464634</td>\n",
       "      <td>0.297166</td>\n",
       "      <td>0.683595</td>\n",
       "    </tr>\n",
       "    <tr>\n",
       "      <th>6</th>\n",
       "      <td>0.220653</td>\n",
       "      <td>0.934624</td>\n",
       "      <td>0.852152</td>\n",
       "      <td>0.787461</td>\n",
       "      <td>0.129087</td>\n",
       "    </tr>\n",
       "    <tr>\n",
       "      <th>7</th>\n",
       "      <td>0.848800</td>\n",
       "      <td>0.404312</td>\n",
       "      <td>0.759204</td>\n",
       "      <td>0.888405</td>\n",
       "      <td>0.418012</td>\n",
       "    </tr>\n",
       "    <tr>\n",
       "      <th>8</th>\n",
       "      <td>0.992226</td>\n",
       "      <td>0.910620</td>\n",
       "      <td>0.624310</td>\n",
       "      <td>0.622572</td>\n",
       "      <td>0.126917</td>\n",
       "    </tr>\n",
       "    <tr>\n",
       "      <th>9</th>\n",
       "      <td>0.795540</td>\n",
       "      <td>0.961071</td>\n",
       "      <td>0.231311</td>\n",
       "      <td>0.550486</td>\n",
       "      <td>0.498987</td>\n",
       "    </tr>\n",
       "  </tbody>\n",
       "</table>\n",
       "</div>"
      ],
      "text/plain": [
       "          0         1         2         3         4\n",
       "0  0.322406  0.646992  0.089726  0.336001  0.027017\n",
       "1  0.079582  0.911784  0.882978  0.663402  0.884389\n",
       "2  0.822083  0.129468  0.738462  0.255872  0.173141\n",
       "3  0.822076  0.515314  0.090162  0.329381  0.952153\n",
       "4  0.994205  0.867608  0.173345  0.416000  0.632748\n",
       "5  0.734949  0.253336  0.464634  0.297166  0.683595\n",
       "6  0.220653  0.934624  0.852152  0.787461  0.129087\n",
       "7  0.848800  0.404312  0.759204  0.888405  0.418012\n",
       "8  0.992226  0.910620  0.624310  0.622572  0.126917\n",
       "9  0.795540  0.961071  0.231311  0.550486  0.498987"
      ]
     },
     "execution_count": 13,
     "metadata": {},
     "output_type": "execute_result"
    }
   ],
   "source": [
    "import pandas as pd\n",
    "import numpy as np\n",
    "df = pd.DataFrame(np.random.rand(10,5))\n",
    "df"
   ]
  },
  {
   "cell_type": "code",
   "execution_count": 16,
   "metadata": {},
   "outputs": [
    {
     "data": {
      "text/html": [
       "<div>\n",
       "<style scoped>\n",
       "    .dataframe tbody tr th:only-of-type {\n",
       "        vertical-align: middle;\n",
       "    }\n",
       "\n",
       "    .dataframe tbody tr th {\n",
       "        vertical-align: top;\n",
       "    }\n",
       "\n",
       "    .dataframe thead th {\n",
       "        text-align: right;\n",
       "    }\n",
       "</style>\n",
       "<table border=\"1\" class=\"dataframe\">\n",
       "  <thead>\n",
       "    <tr style=\"text-align: right;\">\n",
       "      <th></th>\n",
       "      <th>0</th>\n",
       "      <th>1</th>\n",
       "      <th>2</th>\n",
       "      <th>3</th>\n",
       "      <th>4</th>\n",
       "    </tr>\n",
       "  </thead>\n",
       "  <tbody>\n",
       "    <tr>\n",
       "      <th>0</th>\n",
       "      <td>0.340142</td>\n",
       "      <td>0.936247</td>\n",
       "      <td>0.978513</td>\n",
       "      <td>0.133762</td>\n",
       "      <td>0.314626</td>\n",
       "    </tr>\n",
       "    <tr>\n",
       "      <th>1</th>\n",
       "      <td>0.893096</td>\n",
       "      <td>0.393741</td>\n",
       "      <td>0.158480</td>\n",
       "      <td>0.361773</td>\n",
       "      <td>0.866373</td>\n",
       "    </tr>\n",
       "    <tr>\n",
       "      <th>2</th>\n",
       "      <td>0.525481</td>\n",
       "      <td>0.223239</td>\n",
       "      <td>0.959332</td>\n",
       "      <td>0.195185</td>\n",
       "      <td>0.601793</td>\n",
       "    </tr>\n",
       "    <tr>\n",
       "      <th>3</th>\n",
       "      <td>0.113142</td>\n",
       "      <td>0.179203</td>\n",
       "      <td>0.917252</td>\n",
       "      <td>0.863473</td>\n",
       "      <td>0.656515</td>\n",
       "    </tr>\n",
       "    <tr>\n",
       "      <th>4</th>\n",
       "      <td>0.717966</td>\n",
       "      <td>0.124683</td>\n",
       "      <td>0.606755</td>\n",
       "      <td>0.114886</td>\n",
       "      <td>0.451399</td>\n",
       "    </tr>\n",
       "  </tbody>\n",
       "</table>\n",
       "</div>"
      ],
      "text/plain": [
       "          0         1         2         3         4\n",
       "0  0.340142  0.936247  0.978513  0.133762  0.314626\n",
       "1  0.893096  0.393741  0.158480  0.361773  0.866373\n",
       "2  0.525481  0.223239  0.959332  0.195185  0.601793\n",
       "3  0.113142  0.179203  0.917252  0.863473  0.656515\n",
       "4  0.717966  0.124683  0.606755  0.114886  0.451399"
      ]
     },
     "execution_count": 16,
     "metadata": {},
     "output_type": "execute_result"
    }
   ],
   "source": [
    "df.head()"
   ]
  },
  {
   "cell_type": "code",
   "execution_count": 14,
   "metadata": {},
   "outputs": [],
   "source": [
    "pd?"
   ]
  },
  {
   "cell_type": "code",
   "execution_count": 1,
   "metadata": {},
   "outputs": [
    {
     "name": "stdout",
     "output_type": "stream",
     "text": [
      "Found existing installation: lorentz 0.0.1\n",
      "Uninstalling lorentz-0.0.1:\n",
      "  Successfully uninstalled lorentz-0.0.1\n",
      "Note: you may need to restart the kernel to use updated packages.\n"
     ]
    }
   ],
   "source": [
    "pip uninstall lorentz --y"
   ]
  },
  {
   "cell_type": "code",
   "execution_count": 10,
   "metadata": {},
   "outputs": [
    {
     "name": "stdout",
     "output_type": "stream",
     "text": [
      "/Library/Frameworks/Python.framework/Versions/3.8/bin:/usr/local/bin:/usr/bin:/bin:/usr/sbin:/sbin\r\n"
     ]
    }
   ],
   "source": [
    "!echo $PATH"
   ]
  },
  {
   "cell_type": "code",
   "execution_count": null,
   "metadata": {},
   "outputs": [],
   "source": [
    "%load test.py"
   ]
  },
  {
   "cell_type": "code",
   "execution_count": null,
   "metadata": {},
   "outputs": [],
   "source": [
    "%run test.py"
   ]
  }
 ],
 "metadata": {
  "kernelspec": {
   "display_name": "Python 3 (ipykernel)",
   "language": "python",
   "name": "python3"
  },
  "language_info": {
   "codemirror_mode": {
    "name": "ipython",
    "version": 3
   },
   "file_extension": ".py",
   "mimetype": "text/x-python",
   "name": "python",
   "nbconvert_exporter": "python",
   "pygments_lexer": "ipython3",
   "version": "3.9.7"
  }
 },
 "nbformat": 4,
 "nbformat_minor": 4
}
